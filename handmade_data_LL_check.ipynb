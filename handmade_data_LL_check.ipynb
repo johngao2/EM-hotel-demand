{
 "cells": [
  {
   "cell_type": "code",
   "execution_count": 206,
   "metadata": {},
   "outputs": [],
   "source": [
    "import pandas as pd\n",
    "import numpy as np"
   ]
  },
  {
   "cell_type": "code",
   "execution_count": 207,
   "metadata": {},
   "outputs": [],
   "source": [
    "df = pd.read_csv(\"handmade_data.csv\")"
   ]
  },
  {
   "cell_type": "code",
   "execution_count": 209,
   "metadata": {},
   "outputs": [],
   "source": [
    "theta = [4, 1, 2, 4, 3, 7, 2] #example thetas for testing"
   ]
  },
  {
   "cell_type": "code",
   "execution_count": 210,
   "metadata": {},
   "outputs": [],
   "source": [
    "n_times = 4\n",
    "n_options = 7\n",
    "\n",
    "prices = np.zeros((n_times, n_options)) # price matrix\n",
    "counts = np.zeros((n_times, n_options)) # count matrix"
   ]
  },
  {
   "cell_type": "code",
   "execution_count": 211,
   "metadata": {},
   "outputs": [
    {
     "name": "stdout",
     "output_type": "stream",
     "text": [
      "PRICES-----------\n",
      "[[ 0.  2.  4.  6.  0. 10. 12.]\n",
      " [ 0.  0.  4.  6.  8.  0. 12.]\n",
      " [ 0.  2.  4.  0.  0.  0.  0.]\n",
      " [ 0.  2.  0.  6.  0. 10.  0.]]\n",
      "COUNTS-----------\n",
      "[[ 0. 10.  2.  4.  0. 11. 23.]\n",
      " [ 0.  0.  8.  3.  2.  0.  1.]\n",
      " [ 0.  6. 32.  0.  0.  0.  0.]\n",
      " [ 0. 66.  0. 21.  0. 19.  0.]]\n"
     ]
    }
   ],
   "source": [
    "# fill matrices\n",
    "for index, row in df.iterrows():\n",
    "    t = row['time']\n",
    "    i = row['option_ID']\n",
    "    prices[t][i] = row['price']\n",
    "    counts[t][i] = row['count']\n",
    "print(\"PRICES-----------\")\n",
    "print(prices)\n",
    "print(\"COUNTS-----------\")\n",
    "print(counts)"
   ]
  },
  {
   "cell_type": "code",
   "execution_count": 212,
   "metadata": {},
   "outputs": [
    {
     "name": "stdout",
     "output_type": "stream",
     "text": [
      "UTILS-----------\n",
      "[[ 0.  8.  9. 14.  0. 23. 31.]\n",
      " [ 0.  0.  9. 14. 20.  0. 31.]\n",
      " [ 0.  8.  9.  0.  0.  0.  0.]\n",
      " [ 0.  8.  0. 14.  0. 23.  0.]]\n"
     ]
    }
   ],
   "source": [
    "# calculate utility matrix\n",
    "utils = np.zeros((n_times, n_options))\n",
    "for t in range(0, n_times):\n",
    "    for i in range(0, n_options):\n",
    "        if counts[t][i] > 0:\n",
    "            a = theta[i-1]\n",
    "            b = theta[6]\n",
    "            utils[t][i] = a + b * prices[t][i]\n",
    "print(\"UTILS-----------\")\n",
    "print(utils)"
   ]
  },
  {
   "cell_type": "code",
   "execution_count": 213,
   "metadata": {},
   "outputs": [
    {
     "name": "stdout",
     "output_type": "stream",
     "text": [
      "AVG_P-----------------\n",
      "[2.90585957e+13 2.90493360e+13 1.10890419e+04 9.74600904e+09]\n",
      "PROBS-----------------\n",
      "[[3.44132253e-14 1.02584379e-10 2.78853253e-10 4.13854922e-08\n",
      "  3.44132253e-14 3.35350116e-04 9.99664608e-01]\n",
      " [3.44241947e-14 3.44241947e-14 2.78942139e-10 4.13986840e-08\n",
      "  1.67014212e-05 3.44241947e-14 9.99983257e-01]\n",
      " [9.01791163e-05 2.68820157e-01 7.30728948e-01 9.01791163e-05\n",
      "  9.01791163e-05 9.01791163e-05 9.01791163e-05]\n",
      " [1.02606102e-10 3.05864480e-07 1.02606102e-10 1.23394538e-04\n",
      "  1.02606102e-10 9.99876299e-01 1.02606102e-10]]\n"
     ]
    }
   ],
   "source": [
    "# calculate prob matrix\n",
    "\n",
    "# calc avg prob\n",
    "avg_p = np.zeros(n_times)\n",
    "for t in range(0, n_times):\n",
    "    sumprob = 0\n",
    "    for i in range(0, n_options):\n",
    "        sumprob = sumprob + np.exp(utils[t][i])\n",
    "    avg_p[t] = sumprob\n",
    "print(\"AVG_P-----------------\")\n",
    "print(avg_p)\n",
    "    \n",
    "# calc prob matrix\n",
    "probs = np.zeros((n_times, n_options))\n",
    "for t in range(0, n_times):\n",
    "    for i in range(0, n_options):\n",
    "        probs[t][i] = np.exp(utils[t][i])/avg_p[t]\n",
    "print(\"PROBS-----------------\")\n",
    "print(probs)"
   ]
  },
  {
   "cell_type": "code",
   "execution_count": 214,
   "metadata": {},
   "outputs": [
    {
     "data": {
      "text/plain": [
       "-1875.9512019313697"
      ]
     },
     "execution_count": 214,
     "metadata": {},
     "output_type": "execute_result"
    }
   ],
   "source": [
    "# build LL function\n",
    "logprobs = np.log(probs)\n",
    "LL = np.sum(np.multiply(counts, logprobs))\n",
    "LL = (LL)\n",
    "LL"
   ]
  },
  {
   "cell_type": "code",
   "execution_count": null,
   "metadata": {},
   "outputs": [],
   "source": []
  }
 ],
 "metadata": {
  "kernelspec": {
   "display_name": "Python 3",
   "language": "python",
   "name": "python3"
  },
  "language_info": {
   "codemirror_mode": {
    "name": "ipython",
    "version": 3
   },
   "file_extension": ".py",
   "mimetype": "text/x-python",
   "name": "python",
   "nbconvert_exporter": "python",
   "pygments_lexer": "ipython3",
   "version": "3.7.1"
  }
 },
 "nbformat": 4,
 "nbformat_minor": 2
}
