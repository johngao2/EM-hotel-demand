{
 "cells": [
  {
   "cell_type": "code",
   "execution_count": 27,
   "metadata": {},
   "outputs": [],
   "source": [
    "import pandas as pd\n",
    "import numpy as np"
   ]
  },
  {
   "cell_type": "code",
   "execution_count": 38,
   "metadata": {},
   "outputs": [],
   "source": [
    "df = pd.read_csv(\"handmade_data.csv\")"
   ]
  },
  {
   "cell_type": "code",
   "execution_count": 39,
   "metadata": {},
   "outputs": [
    {
     "data": {
      "text/html": [
       "<div>\n",
       "<style scoped>\n",
       "    .dataframe tbody tr th:only-of-type {\n",
       "        vertical-align: middle;\n",
       "    }\n",
       "\n",
       "    .dataframe tbody tr th {\n",
       "        vertical-align: top;\n",
       "    }\n",
       "\n",
       "    .dataframe thead th {\n",
       "        text-align: right;\n",
       "    }\n",
       "</style>\n",
       "<table border=\"1\" class=\"dataframe\">\n",
       "  <thead>\n",
       "    <tr style=\"text-align: right;\">\n",
       "      <th></th>\n",
       "      <th>time</th>\n",
       "      <th>option_ID</th>\n",
       "      <th>price</th>\n",
       "      <th>count</th>\n",
       "    </tr>\n",
       "  </thead>\n",
       "  <tbody>\n",
       "    <tr>\n",
       "      <th>0</th>\n",
       "      <td>0</td>\n",
       "      <td>1</td>\n",
       "      <td>2</td>\n",
       "      <td>10</td>\n",
       "    </tr>\n",
       "    <tr>\n",
       "      <th>1</th>\n",
       "      <td>0</td>\n",
       "      <td>2</td>\n",
       "      <td>4</td>\n",
       "      <td>2</td>\n",
       "    </tr>\n",
       "    <tr>\n",
       "      <th>2</th>\n",
       "      <td>0</td>\n",
       "      <td>3</td>\n",
       "      <td>6</td>\n",
       "      <td>4</td>\n",
       "    </tr>\n",
       "    <tr>\n",
       "      <th>3</th>\n",
       "      <td>0</td>\n",
       "      <td>5</td>\n",
       "      <td>10</td>\n",
       "      <td>11</td>\n",
       "    </tr>\n",
       "    <tr>\n",
       "      <th>4</th>\n",
       "      <td>0</td>\n",
       "      <td>6</td>\n",
       "      <td>12</td>\n",
       "      <td>23</td>\n",
       "    </tr>\n",
       "    <tr>\n",
       "      <th>5</th>\n",
       "      <td>1</td>\n",
       "      <td>2</td>\n",
       "      <td>4</td>\n",
       "      <td>8</td>\n",
       "    </tr>\n",
       "    <tr>\n",
       "      <th>6</th>\n",
       "      <td>1</td>\n",
       "      <td>3</td>\n",
       "      <td>6</td>\n",
       "      <td>3</td>\n",
       "    </tr>\n",
       "    <tr>\n",
       "      <th>7</th>\n",
       "      <td>1</td>\n",
       "      <td>4</td>\n",
       "      <td>8</td>\n",
       "      <td>2</td>\n",
       "    </tr>\n",
       "    <tr>\n",
       "      <th>8</th>\n",
       "      <td>1</td>\n",
       "      <td>6</td>\n",
       "      <td>12</td>\n",
       "      <td>1</td>\n",
       "    </tr>\n",
       "    <tr>\n",
       "      <th>9</th>\n",
       "      <td>2</td>\n",
       "      <td>1</td>\n",
       "      <td>2</td>\n",
       "      <td>6</td>\n",
       "    </tr>\n",
       "    <tr>\n",
       "      <th>10</th>\n",
       "      <td>2</td>\n",
       "      <td>2</td>\n",
       "      <td>4</td>\n",
       "      <td>32</td>\n",
       "    </tr>\n",
       "    <tr>\n",
       "      <th>11</th>\n",
       "      <td>3</td>\n",
       "      <td>1</td>\n",
       "      <td>2</td>\n",
       "      <td>66</td>\n",
       "    </tr>\n",
       "    <tr>\n",
       "      <th>12</th>\n",
       "      <td>3</td>\n",
       "      <td>3</td>\n",
       "      <td>6</td>\n",
       "      <td>21</td>\n",
       "    </tr>\n",
       "    <tr>\n",
       "      <th>13</th>\n",
       "      <td>3</td>\n",
       "      <td>5</td>\n",
       "      <td>10</td>\n",
       "      <td>19</td>\n",
       "    </tr>\n",
       "  </tbody>\n",
       "</table>\n",
       "</div>"
      ],
      "text/plain": [
       "    time  option_ID  price  count\n",
       "0      0          1      2     10\n",
       "1      0          2      4      2\n",
       "2      0          3      6      4\n",
       "3      0          5     10     11\n",
       "4      0          6     12     23\n",
       "5      1          2      4      8\n",
       "6      1          3      6      3\n",
       "7      1          4      8      2\n",
       "8      1          6     12      1\n",
       "9      2          1      2      6\n",
       "10     2          2      4     32\n",
       "11     3          1      2     66\n",
       "12     3          3      6     21\n",
       "13     3          5     10     19"
      ]
     },
     "execution_count": 39,
     "metadata": {},
     "output_type": "execute_result"
    }
   ],
   "source": [
    "df"
   ]
  },
  {
   "cell_type": "code",
   "execution_count": 40,
   "metadata": {},
   "outputs": [],
   "source": [
    "theta = [0, 1, 2, 4, 3, 7, 2] #example thetas for testing"
   ]
  },
  {
   "cell_type": "code",
   "execution_count": 127,
   "metadata": {},
   "outputs": [],
   "source": [
    "n_times = 4\n",
    "n_options = 7\n",
    "\n",
    "p = np.zeros((n_times, n_options)) # price matrix\n",
    "c = np.zeros((n_times, n_options)) # count matrix"
   ]
  },
  {
   "cell_type": "code",
   "execution_count": 128,
   "metadata": {},
   "outputs": [
    {
     "data": {
      "text/plain": [
       "array([0, 1, 2, 3])"
      ]
     },
     "execution_count": 128,
     "metadata": {},
     "output_type": "execute_result"
    }
   ],
   "source": [
    "df['time'].unique()"
   ]
  },
  {
   "cell_type": "code",
   "execution_count": 129,
   "metadata": {},
   "outputs": [
    {
     "name": "stdout",
     "output_type": "stream",
     "text": [
      "t 0\n",
      "i 0\n",
      "t 0\n",
      "i 1\n",
      "2\n",
      "10\n",
      "t 0\n",
      "i 2\n",
      "4\n",
      "2\n",
      "t 0\n",
      "i 3\n",
      "6\n",
      "4\n",
      "t 0\n",
      "i 4\n",
      "t 0\n",
      "i 5\n",
      "10\n",
      "11\n",
      "t 0\n",
      "i 6\n",
      "12\n",
      "23\n",
      "t 1\n",
      "i 0\n",
      "t 1\n",
      "i 1\n",
      "t 1\n",
      "i 2\n",
      "4\n",
      "8\n",
      "t 1\n",
      "i 3\n",
      "6\n",
      "3\n",
      "t 1\n",
      "i 4\n",
      "8\n",
      "2\n",
      "t 1\n",
      "i 5\n",
      "t 1\n",
      "i 6\n",
      "12\n",
      "1\n",
      "t 2\n",
      "i 0\n",
      "t 2\n",
      "i 1\n",
      "2\n",
      "6\n",
      "t 2\n",
      "i 2\n",
      "4\n",
      "32\n",
      "t 2\n",
      "i 3\n",
      "t 2\n",
      "i 4\n",
      "t 2\n",
      "i 5\n",
      "t 2\n",
      "i 6\n",
      "t 3\n",
      "i 0\n",
      "t 3\n",
      "i 1\n",
      "2\n",
      "66\n",
      "t 3\n",
      "i 2\n",
      "t 3\n",
      "i 3\n",
      "6\n",
      "21\n",
      "t 3\n",
      "i 4\n",
      "t 3\n",
      "i 5\n",
      "10\n",
      "19\n",
      "t 3\n",
      "i 6\n"
     ]
    }
   ],
   "source": [
    "for t in range(0, n_times):\n",
    "    for i in range(0, n_options):\n",
    "        #print(\"t\", t)\n",
    "        #print(\"i\", i)\n",
    "        try:\n",
    "            print(\"t\", t)\n",
    "            print(\"i\", i)\n",
    "            print(df[(df['time'] == t) & (df['option_ID'] == i )].iloc[0,2])\n",
    "            print(df[(df['time'] == t) & (df['option_ID'] == i )].iloc[0,3])\n",
    "            p[t][i] = df[(df['time'] == t) & (df['option_ID'] == i )].iloc[0,2]\n",
    "            c[t][i] = df[(df['time'] == t) & (df['option_ID'] == i )].iloc[0,3]\n",
    "        except IndexError:\n",
    "            pass\n",
    "        "
   ]
  },
  {
   "cell_type": "code",
   "execution_count": 130,
   "metadata": {},
   "outputs": [
    {
     "data": {
      "text/plain": [
       "array([[ 0.,  2.,  4.,  6.,  0., 10., 12.],\n",
       "       [ 0.,  0.,  4.,  6.,  8.,  0., 12.],\n",
       "       [ 0.,  2.,  4.,  0.,  0.,  0.,  0.],\n",
       "       [ 0.,  2.,  0.,  6.,  0., 10.,  0.]])"
      ]
     },
     "execution_count": 130,
     "metadata": {},
     "output_type": "execute_result"
    }
   ],
   "source": [
    "p"
   ]
  },
  {
   "cell_type": "code",
   "execution_count": 131,
   "metadata": {},
   "outputs": [
    {
     "data": {
      "text/plain": [
       "array([[ 0., 10.,  2.,  4.,  0., 11., 23.],\n",
       "       [ 0.,  0.,  8.,  3.,  2.,  0.,  1.],\n",
       "       [ 0.,  6., 32.,  0.,  0.,  0.,  0.],\n",
       "       [ 0., 66.,  0., 21.,  0., 19.,  0.]])"
      ]
     },
     "execution_count": 131,
     "metadata": {},
     "output_type": "execute_result"
    }
   ],
   "source": [
    "c"
   ]
  },
  {
   "cell_type": "code",
   "execution_count": 21,
   "metadata": {},
   "outputs": [
    {
     "data": {
      "text/plain": [
       "[4, 9, 14, 23, 31, 9, 14, 20, 31, 4, 9, 4, 14, 23]"
      ]
     },
     "execution_count": 21,
     "metadata": {},
     "output_type": "execute_result"
    }
   ],
   "source": [
    "# calc v values\n",
    "df['v'] = None\n",
    "for index, row in df.iterrows():\n",
    "    df.at[index, 'v'] = theta[row['option_ID']-1] + theta[6] * row['price']\n",
    "df['v'].tolist()"
   ]
  },
  {
   "cell_type": "code",
   "execution_count": null,
   "metadata": {},
   "outputs": [],
   "source": []
  }
 ],
 "metadata": {
  "kernelspec": {
   "display_name": "Python 3",
   "language": "python",
   "name": "python3"
  },
  "language_info": {
   "codemirror_mode": {
    "name": "ipython",
    "version": 3
   },
   "file_extension": ".py",
   "mimetype": "text/x-python",
   "name": "python",
   "nbconvert_exporter": "python",
   "pygments_lexer": "ipython3",
   "version": "3.7.1"
  }
 },
 "nbformat": 4,
 "nbformat_minor": 2
}
