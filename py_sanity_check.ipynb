{
 "cells": [
  {
   "cell_type": "code",
   "execution_count": 1,
   "metadata": {},
   "outputs": [],
   "source": [
    "import pandas as pd\n",
    "import numpy as np"
   ]
  },
  {
   "cell_type": "code",
   "execution_count": 2,
   "metadata": {},
   "outputs": [],
   "source": [
    "df = pd.read_csv(\"handmade_data.csv\")"
   ]
  },
  {
   "cell_type": "code",
   "execution_count": 3,
   "metadata": {},
   "outputs": [
    {
     "data": {
      "text/html": [
       "<div>\n",
       "<style scoped>\n",
       "    .dataframe tbody tr th:only-of-type {\n",
       "        vertical-align: middle;\n",
       "    }\n",
       "\n",
       "    .dataframe tbody tr th {\n",
       "        vertical-align: top;\n",
       "    }\n",
       "\n",
       "    .dataframe thead th {\n",
       "        text-align: right;\n",
       "    }\n",
       "</style>\n",
       "<table border=\"1\" class=\"dataframe\">\n",
       "  <thead>\n",
       "    <tr style=\"text-align: right;\">\n",
       "      <th></th>\n",
       "      <th>time</th>\n",
       "      <th>option_ID</th>\n",
       "      <th>price</th>\n",
       "      <th>count</th>\n",
       "    </tr>\n",
       "  </thead>\n",
       "  <tbody>\n",
       "    <tr>\n",
       "      <th>0</th>\n",
       "      <td>0</td>\n",
       "      <td>1</td>\n",
       "      <td>2</td>\n",
       "      <td>10</td>\n",
       "    </tr>\n",
       "    <tr>\n",
       "      <th>1</th>\n",
       "      <td>0</td>\n",
       "      <td>2</td>\n",
       "      <td>4</td>\n",
       "      <td>2</td>\n",
       "    </tr>\n",
       "    <tr>\n",
       "      <th>2</th>\n",
       "      <td>0</td>\n",
       "      <td>3</td>\n",
       "      <td>6</td>\n",
       "      <td>4</td>\n",
       "    </tr>\n",
       "    <tr>\n",
       "      <th>3</th>\n",
       "      <td>0</td>\n",
       "      <td>5</td>\n",
       "      <td>10</td>\n",
       "      <td>11</td>\n",
       "    </tr>\n",
       "    <tr>\n",
       "      <th>4</th>\n",
       "      <td>0</td>\n",
       "      <td>6</td>\n",
       "      <td>12</td>\n",
       "      <td>23</td>\n",
       "    </tr>\n",
       "    <tr>\n",
       "      <th>5</th>\n",
       "      <td>1</td>\n",
       "      <td>2</td>\n",
       "      <td>4</td>\n",
       "      <td>8</td>\n",
       "    </tr>\n",
       "    <tr>\n",
       "      <th>6</th>\n",
       "      <td>1</td>\n",
       "      <td>3</td>\n",
       "      <td>6</td>\n",
       "      <td>3</td>\n",
       "    </tr>\n",
       "    <tr>\n",
       "      <th>7</th>\n",
       "      <td>1</td>\n",
       "      <td>4</td>\n",
       "      <td>8</td>\n",
       "      <td>2</td>\n",
       "    </tr>\n",
       "    <tr>\n",
       "      <th>8</th>\n",
       "      <td>1</td>\n",
       "      <td>6</td>\n",
       "      <td>12</td>\n",
       "      <td>1</td>\n",
       "    </tr>\n",
       "    <tr>\n",
       "      <th>9</th>\n",
       "      <td>2</td>\n",
       "      <td>1</td>\n",
       "      <td>2</td>\n",
       "      <td>6</td>\n",
       "    </tr>\n",
       "    <tr>\n",
       "      <th>10</th>\n",
       "      <td>2</td>\n",
       "      <td>2</td>\n",
       "      <td>4</td>\n",
       "      <td>32</td>\n",
       "    </tr>\n",
       "    <tr>\n",
       "      <th>11</th>\n",
       "      <td>3</td>\n",
       "      <td>1</td>\n",
       "      <td>2</td>\n",
       "      <td>66</td>\n",
       "    </tr>\n",
       "    <tr>\n",
       "      <th>12</th>\n",
       "      <td>3</td>\n",
       "      <td>3</td>\n",
       "      <td>6</td>\n",
       "      <td>21</td>\n",
       "    </tr>\n",
       "    <tr>\n",
       "      <th>13</th>\n",
       "      <td>3</td>\n",
       "      <td>5</td>\n",
       "      <td>10</td>\n",
       "      <td>19</td>\n",
       "    </tr>\n",
       "  </tbody>\n",
       "</table>\n",
       "</div>"
      ],
      "text/plain": [
       "    time  option_ID  price  count\n",
       "0      0          1      2     10\n",
       "1      0          2      4      2\n",
       "2      0          3      6      4\n",
       "3      0          5     10     11\n",
       "4      0          6     12     23\n",
       "5      1          2      4      8\n",
       "6      1          3      6      3\n",
       "7      1          4      8      2\n",
       "8      1          6     12      1\n",
       "9      2          1      2      6\n",
       "10     2          2      4     32\n",
       "11     3          1      2     66\n",
       "12     3          3      6     21\n",
       "13     3          5     10     19"
      ]
     },
     "execution_count": 3,
     "metadata": {},
     "output_type": "execute_result"
    }
   ],
   "source": [
    "df"
   ]
  },
  {
   "cell_type": "code",
   "execution_count": 4,
   "metadata": {},
   "outputs": [],
   "source": [
    "theta = [1, 1, 1, 1, 1, 1, 1] #example thetas for testing"
   ]
  },
  {
   "cell_type": "code",
   "execution_count": 5,
   "metadata": {},
   "outputs": [],
   "source": [
    "n_times = 4\n",
    "n_options = 7\n",
    "\n",
    "prices = np.zeros((n_times, n_options)) # price matrix\n",
    "counts = np.zeros((n_times, n_options)) # count matrix"
   ]
  },
  {
   "cell_type": "code",
   "execution_count": 6,
   "metadata": {},
   "outputs": [
    {
     "name": "stdout",
     "output_type": "stream",
     "text": [
      "PRICES-----------\n",
      "[[ 0.  2.  4.  6.  0. 10. 12.]\n",
      " [ 0.  0.  4.  6.  8.  0. 12.]\n",
      " [ 0.  2.  4.  0.  0.  0.  0.]\n",
      " [ 0.  2.  0.  6.  0. 10.  0.]]\n",
      "COUNTS-----------\n",
      "[[ 0. 10.  2.  4.  0. 11. 23.]\n",
      " [ 0.  0.  8.  3.  2.  0.  1.]\n",
      " [ 0.  6. 32.  0.  0.  0.  0.]\n",
      " [ 0. 66.  0. 21.  0. 19.  0.]]\n"
     ]
    }
   ],
   "source": [
    "# fill matrices\n",
    "for index, row in df.iterrows():\n",
    "    t = row['time']\n",
    "    i = row['option_ID']\n",
    "    prices[t][i] = row['price']\n",
    "    counts[t][i] = row['count']\n",
    "print(\"PRICES-----------\")\n",
    "print(prices)\n",
    "print(\"COUNTS-----------\")\n",
    "print(counts)"
   ]
  },
  {
   "cell_type": "code",
   "execution_count": 231,
   "metadata": {},
   "outputs": [
    {
     "name": "stdout",
     "output_type": "stream",
     "text": [
      "UTILS-----------\n",
      "[[ 0.  3.  5.  7.  0. 11. 13.]\n",
      " [ 0.  0.  5.  7.  9.  0. 13.]\n",
      " [ 0.  3.  5.  0.  0.  0.  0.]\n",
      " [ 0.  3.  0.  7.  0. 11.  0.]]\n"
     ]
    }
   ],
   "source": [
    "# calculate utility matrix\n",
    "utils = np.zeros((n_times, n_options))\n",
    "for t in range(0, n_times):\n",
    "    for i in range(0, n_options):\n",
    "        if counts[t][i] > 0:\n",
    "            a = theta[i-1]\n",
    "            b = theta[6]\n",
    "            utils[t][i] = a + b * prices[t][i]\n",
    "print(\"UTILS-----------\")\n",
    "print(utils)"
   ]
  },
  {
   "cell_type": "code",
   "execution_count": 232,
   "metadata": {},
   "outputs": [
    {
     "name": "stdout",
     "output_type": "stream",
     "text": [
      "AVG_P-----------------\n",
      "[5.03554666e+05 4.51764522e+05 1.73498696e+02 6.09948604e+04]\n",
      "PROBS-----------------\n",
      "[[1.98588171e-06 3.98875004e-05 2.94730978e-04 2.17778373e-03\n",
      "  1.98588171e-06 1.18902963e-01 8.78580663e-01]\n",
      " [2.21354257e-06 2.21354257e-06 3.28518845e-04 2.42744418e-03\n",
      "  1.79365212e-02 2.21354257e-06 9.79300875e-01]\n",
      " [5.76373208e-03 1.15767653e-01 8.55413686e-01 5.76373208e-03\n",
      "  5.76373208e-03 5.76373208e-03 5.76373208e-03]\n",
      " [1.63948240e-05 3.29298842e-04 1.63948240e-05 1.79791076e-02\n",
      "  1.63948240e-05 9.81626014e-01 1.63948240e-05]]\n"
     ]
    }
   ],
   "source": [
    "# calculate prob matrix\n",
    "\n",
    "# calc avg prob\n",
    "avg_p = np.zeros(n_times)\n",
    "for t in range(0, n_times):\n",
    "    sumprob = 0\n",
    "    for i in range(0, n_options):\n",
    "        sumprob = sumprob + np.exp(utils[t][i])\n",
    "    avg_p[t] = sumprob\n",
    "print(\"AVG_P-----------------\")\n",
    "print(avg_p)\n",
    "    \n",
    "# calc prob matrix\n",
    "probs = np.zeros((n_times, n_options))\n",
    "for t in range(0, n_times):\n",
    "    for i in range(0, n_options):\n",
    "        probs[t][i] = np.exp(utils[t][i])/avg_p[t]\n",
    "print(\"PROBS-----------------\")\n",
    "print(probs)"
   ]
  },
  {
   "cell_type": "code",
   "execution_count": 233,
   "metadata": {},
   "outputs": [
    {
     "data": {
      "text/plain": [
       "890.6654276720102"
      ]
     },
     "execution_count": 233,
     "metadata": {},
     "output_type": "execute_result"
    }
   ],
   "source": [
    "# build LL function\n",
    "logprobs = np.log(probs)\n",
    "LL = -np.sum(np.multiply(counts, logprobs))\n",
    "LL = (LL)\n",
    "LL"
   ]
  },
  {
   "cell_type": "code",
   "execution_count": null,
   "metadata": {},
   "outputs": [],
   "source": []
  }
 ],
 "metadata": {
  "kernelspec": {
   "display_name": "Python 3",
   "language": "python",
   "name": "python3"
  },
  "language_info": {
   "codemirror_mode": {
    "name": "ipython",
    "version": 3
   },
   "file_extension": ".py",
   "mimetype": "text/x-python",
   "name": "python",
   "nbconvert_exporter": "python",
   "pygments_lexer": "ipython3",
   "version": "3.7.1"
  }
 },
 "nbformat": 4,
 "nbformat_minor": 2
}
