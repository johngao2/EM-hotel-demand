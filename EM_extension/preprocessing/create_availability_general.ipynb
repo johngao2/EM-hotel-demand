{
 "cells": [
  {
   "cell_type": "code",
   "execution_count": 658,
   "metadata": {},
   "outputs": [],
   "source": [
    "import pandas as pd\n",
    "import numpy as np\n",
    "import os\n",
    "from datetime import timedelta, date\n",
    "import sys\n",
    "\n",
    "'''This script produces a file which shows availability. Each row is a booking\n",
    "date, and each col is a (room type, stay date) tuple'''\n",
    "\n",
    "def daterange(start_date, end_date):\n",
    "    for n in range(int ((end_date - start_date).days)):\n",
    "        yield start_date + timedelta(n)\n",
    "\n",
    "# load raw hotel data\n",
    "df_data = pd.read_csv('data/2018_clean.csv', parse_dates=['ARRIVAL', 'DEPART', 'LOOK_DATE'])\n",
    "df_data = (df_data.sort_values(['LOOK_DATE', 'RESNO'])\n",
    "           .drop(['RESNO'], axis=1))\n",
    "\n",
    "df_caps = pd.read_csv('data/capacities.csv', index_col='UNIT')"
   ]
  },
  {
   "cell_type": "code",
   "execution_count": 659,
   "metadata": {},
   "outputs": [],
   "source": [
    "# helper vars\n",
    "look_start = df_data['LOOK_DATE'].min()\n",
    "look_end = df_data['LOOK_DATE'].max()\n",
    "look_range = pd.date_range(look_start, look_end)\n",
    "\n",
    "ssn_start = df_data['ARRIVAL'].min()\n",
    "ssn_end = df_data['ARRIVAL'].max()\n",
    "ssn_range = pd.date_range(ssn_start, ssn_end)\n",
    "\n",
    "# get max periods per day from transactions script\n",
    "periods_per_day = (df_data[df_data['CANCEL_INDICATOR'] == 0] # look at bookings only\n",
    "                   .drop(['CANCEL_INDICATOR'], axis=1)\n",
    "                   .groupby('group_id').first() # collapse groups\n",
    "                   .sort_values('LOOK_DATE')\n",
    "                   .groupby(by=['LOOK_DATE', 'ARRIVAL']).count()\n",
    "                   .max()[0])\n",
    "intraday_range = range(0, periods_per_day)\n"
   ]
  },
  {
   "cell_type": "code",
   "execution_count": 660,
   "metadata": {},
   "outputs": [],
   "source": [
    "# initializing blank df with same height as transactions\n",
    "\n",
    "# generate room type list\n",
    "df_grouped_types = df_data.groupby(by='UNIT').count()\n",
    "unit_list = df_grouped_types.index.tolist()\n",
    "\n",
    "# create blank df\n",
    "df_avail = pd.DataFrame(index=pd.MultiIndex.from_product([look_range, ssn_range, intraday_range], \n",
    "                                                           names=['LOOK_DATE', 'ARRIVAL', 'INTRADAY']),\n",
    "                        columns=unit_list)\n",
    "df_avail = df_avail.fillna(0.0)\n",
    "\n",
    "# add default capacities\n",
    "for index, row in df_capa.iterrows():\n",
    "    df_avail[index] = df_avail[index] + row['CAPACITY']"
   ]
  },
  {
   "cell_type": "code",
   "execution_count": 662,
   "metadata": {
    "scrolled": true
   },
   "outputs": [],
   "source": [
    "row = df_data.iloc[1,:]\n",
    "df_test = df_avail.copy()\n",
    "cur_idx = (row['LOOK_DATE'], row['ARRIVAL'], 1)\n",
    "cur_idx2 = (row['LOOK_DATE'], row['ARRIVAL'])\n",
    "# df_test.loc[cur_idx2, row['UNIT']]"
   ]
  },
  {
   "cell_type": "code",
   "execution_count": 663,
   "metadata": {},
   "outputs": [
    {
     "data": {
      "text/plain": [
       "10919"
      ]
     },
     "execution_count": 663,
     "metadata": {},
     "output_type": "execute_result"
    }
   ],
   "source": [
    "len(df_data)"
   ]
  },
  {
   "cell_type": "code",
   "execution_count": 664,
   "metadata": {},
   "outputs": [
    {
     "name": "stdout",
     "output_type": "stream",
     "text": [
      "[============================================================] 100.0% ...Filling in availability\r"
     ]
    }
   ],
   "source": [
    "# fill in capacities by iterating over transaction data\n",
    "\n",
    "# helper load bar function\n",
    "def progress(count, total, status=''):\n",
    "    bar_len = 60\n",
    "    filled_len = int(round(bar_len * count / float(total)))\n",
    "\n",
    "    percents = round(100.0 * count / float(total), 1)\n",
    "    bar = '=' * filled_len + '-' * (bar_len - filled_len)\n",
    "\n",
    "    sys.stdout.write('[%s] %s%s ...%s\\r' % (bar, percents, '%', status))\n",
    "    sys.stdout.flush()\n",
    "    \n",
    "total = len(df_data)\n",
    "    \n",
    "for index, row in df_data.iterrows():\n",
    "    progress(index, total, status='Filling in availability')  \n",
    "    cap_change = 1/row['grp_size']\n",
    "    \n",
    "    # book arrive delta, must subtract capacity for all these dates\n",
    "    ba_delta = pd.date_range(row['LOOK_DATE'], row['ARRIVAL'])\n",
    "\n",
    "    # subtract or add capacity for each day b/w look and arrive\n",
    "    if row['CANCEL_INDICATOR'] == 0:\n",
    "        # loop subtract (i know this is bad practice lol)\n",
    "        for date in ba_delta:\n",
    "            for i in intraday_range:\n",
    "                cur_idx = (date, row['ARRIVAL'], i)\n",
    "                df_avail.loc[cur_idx, row['UNIT']] -= cap_change\n",
    "    else:\n",
    "        for date in ba_delta:\n",
    "            for i in intraday_range:\n",
    "                cur_idx = (date, row['ARRIVAL'], i)\n",
    "                df_avail.loc[cur_idx, row['UNIT']] += cap_change"
   ]
  },
  {
   "cell_type": "code",
   "execution_count": 668,
   "metadata": {},
   "outputs": [],
   "source": [
    "df_avail.to_csv('data/availability_sprint1.csv')"
   ]
  },
  {
   "cell_type": "code",
   "execution_count": 669,
   "metadata": {},
   "outputs": [
    {
     "data": {
      "text/plain": [
       "2BV   -3.000000e+00\n",
       "4BV   -3.000000e+00\n",
       "CD    -1.332268e-15\n",
       "CK     0.000000e+00\n",
       "DD    -2.000000e+00\n",
       "DK    -1.000000e+00\n",
       "DKB    5.000000e-01\n",
       "dtype: float64"
      ]
     },
     "execution_count": 669,
     "metadata": {},
     "output_type": "execute_result"
    }
   ],
   "source": [
    "df_avail.min()"
   ]
  },
  {
   "cell_type": "code",
   "execution_count": null,
   "metadata": {},
   "outputs": [],
   "source": []
  }
 ],
 "metadata": {
  "kernelspec": {
   "display_name": "Python 3",
   "language": "python",
   "name": "python3"
  },
  "language_info": {
   "codemirror_mode": {
    "name": "ipython",
    "version": 3
   },
   "file_extension": ".py",
   "mimetype": "text/x-python",
   "name": "python",
   "nbconvert_exporter": "python",
   "pygments_lexer": "ipython3",
   "version": "3.7.1"
  }
 },
 "nbformat": 4,
 "nbformat_minor": 2
}
