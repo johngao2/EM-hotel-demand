{
 "cells": [
  {
   "cell_type": "code",
   "execution_count": 296,
   "metadata": {},
   "outputs": [],
   "source": [
    "import pandas as pd"
   ]
  },
  {
   "cell_type": "code",
   "execution_count": 297,
   "metadata": {},
   "outputs": [],
   "source": [
    "df = pd.read_csv('data/unclean/2018_transactions_original.csv',\n",
    "                 parse_dates=['ARRIVAL', 'DEPART', 'BOOKING'],\n",
    "                 dayfirst=True)\n",
    "df_units = pd.read_csv('data/unclean/room_number_type_mapping.csv',\n",
    "                       dtype={'room_number': object})"
   ]
  },
  {
   "cell_type": "code",
   "execution_count": 298,
   "metadata": {
    "scrolled": true
   },
   "outputs": [],
   "source": [
    "# merge purchases\n",
    "df = df.drop_duplicates()\n",
    "\n",
    "# convert units to codes\n",
    "df['UNIT'] = df['UNIT'].astype(str)\n",
    "room_mapping_df = df_units.set_index('room_number')\n",
    "room_mapping_dict = room_mapping_df.to_dict()['room_type']\n",
    "df['UNIT_num'] = df['UNIT'].copy()\n",
    "df['UNIT'] = df['UNIT'].replace(room_mapping_dict)\n",
    "df['UNIT_num'] = df['UNIT_num'].astype(int)"
   ]
  },
  {
   "cell_type": "code",
   "execution_count": 299,
   "metadata": {},
   "outputs": [],
   "source": [
    "# create group ID's and group sizes\n",
    "df['group_id'] = df.groupby(['UNIT_num', 'ARRIVAL', 'DEPART']).ngroup()\n",
    "group_sizes = df.groupby('group_id').size()\n",
    "df = df.merge(pd.DataFrame(group_sizes), on='group_id', how='outer')\n",
    "df = df.rename(index=str, columns={0:'grp_size'})\n",
    "df = df.set_index('group_id')\n",
    "df = df.drop(['UNIT_num'], axis=1)"
   ]
  },
  {
   "cell_type": "code",
   "execution_count": 300,
   "metadata": {
    "scrolled": true
   },
   "outputs": [],
   "source": [
    "# final sorting by booking date and resno\n",
    "df = df.sort_values(['BOOKING', 'RESNO'])\n",
    "\n",
    "# rename booking\n",
    "df = df.rename(index=str, columns={'BOOKING': 'LOOK_DATE'})"
   ]
  },
  {
   "cell_type": "code",
   "execution_count": 301,
   "metadata": {},
   "outputs": [],
   "source": [
    "df.to_csv('data/2018_clean.csv')"
   ]
  },
  {
   "cell_type": "code",
   "execution_count": null,
   "metadata": {},
   "outputs": [],
   "source": []
  }
 ],
 "metadata": {
  "kernelspec": {
   "display_name": "Python 3",
   "language": "python",
   "name": "python3"
  },
  "language_info": {
   "codemirror_mode": {
    "name": "ipython",
    "version": 3
   },
   "file_extension": ".py",
   "mimetype": "text/x-python",
   "name": "python",
   "nbconvert_exporter": "python",
   "pygments_lexer": "ipython3",
   "version": "3.7.1"
  }
 },
 "nbformat": 4,
 "nbformat_minor": 2
}
