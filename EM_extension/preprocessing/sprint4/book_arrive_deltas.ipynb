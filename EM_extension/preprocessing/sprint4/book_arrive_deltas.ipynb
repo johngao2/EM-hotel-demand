{
 "cells": [
  {
   "cell_type": "code",
   "execution_count": null,
   "metadata": {},
   "outputs": [],
   "source": [
    "import pandas as pd\n",
    "import numpy as np\n",
    "import os\n",
    "from datetime import timedelta, date\n",
    "from ast import literal_eval\n",
    "\n",
    "'''This script produces a file which contains the book-arrive delta for each transaction.'''\n",
    "\n",
    "def daterange(start_date, end_date):\n",
    "    for n in range(int ((end_date - start_date).days)):\n",
    "        yield start_date + timedelta(n)\n",
    "\n",
    "# load purchase data\n",
    "purchases_df = pd.read_csv('../../../data/cabot_data/clean_base/2018_clean.csv',\n",
    "                           parse_dates=['ARRIVAL', 'DEPART', 'LOOK_DATE'])\n",
    "purchases_df = (purchases_df[purchases_df['CANCEL_INDICATOR'] == 0] # look at bookings only\n",
    "                .drop(['RESNO', 'CANCEL_INDICATOR'], axis=1)\n",
    "                .groupby('group_id').first() # collapse groups\n",
    "                .sort_values('LOOK_DATE'))\n",
    "\n",
    "# add stay len col to df_data\n",
    "purchases_df['stay_len'] = (purchases_df['DEPART'] - purchases_df['ARRIVAL']).dt.days\n",
    "# anything greater than 4 is 4\n",
    "purchases_df['stay_len'] = purchases_df['stay_len'].apply(lambda x: 4 if x > 4 else x)\n",
    "\n",
    "# initialize some helper vars\n",
    "df_grouped = purchases_df.groupby(by=['LOOK_DATE']).count()\n",
    "periods_per_day = df_grouped['DEPART'].max()\n",
    "\n",
    "look_start = purchases_df['LOOK_DATE'].min()\n",
    "look_end = purchases_df['LOOK_DATE'].max()\n",
    "\n",
    "ssn_start = purchases_df['ARRIVAL'].min()\n",
    "ssn_end = purchases_df['ARRIVAL'].max()"
   ]
  }
 ],
 "metadata": {
  "kernelspec": {
   "display_name": "Python 3",
   "language": "python",
   "name": "python3"
  },
  "language_info": {
   "codemirror_mode": {
    "name": "ipython",
    "version": 3
   },
   "file_extension": ".py",
   "mimetype": "text/x-python",
   "name": "python",
   "nbconvert_exporter": "python",
   "pygments_lexer": "ipython3",
   "version": "3.7.1"
  }
 },
 "nbformat": 4,
 "nbformat_minor": 2
}
