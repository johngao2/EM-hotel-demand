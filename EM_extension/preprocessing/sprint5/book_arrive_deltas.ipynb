{
 "cells": [
  {
   "cell_type": "code",
   "execution_count": 154,
   "metadata": {},
   "outputs": [],
   "source": [
    "import pandas as pd\n",
    "import numpy as np\n",
    "import os\n",
    "from datetime import timedelta, date\n",
    "from ast import literal_eval\n",
    "\n",
    "'''This script produces a file which contains the book-arrive delta for each transaction.'''\n",
    "\n",
    "def daterange(start_date, end_date):\n",
    "    for n in range(int ((end_date - start_date).days)):\n",
    "        yield start_date + timedelta(n)\n",
    "\n",
    "# load transaction data\n",
    "trans_df = pd.read_csv('../../../data/cabot_data/sprint_3/trans_s3_raw.csv',\n",
    "                       parse_dates=['LOOK_DATE']) # transactions with date"
   ]
  },
  {
   "cell_type": "code",
   "execution_count": 155,
   "metadata": {},
   "outputs": [],
   "source": [
    "# convert strings to tuples\n",
    "trans_df['PRODUCT'] = [0 if str(x) == 'nan' else literal_eval(x) for x in trans_df['PRODUCT']]\n",
    "\n",
    "# get look days\n",
    "trans_df['LOOK_DAY'] = trans_df['LOOK_DATE'].dt.week * 7 - 7 + trans_df['LOOK_DATE'].dt.dayofweek\n",
    "\n",
    "# get arrival days\n",
    "get_day = lambda x: x[1] * 7 - 7 + x[2] if x != 0 else 'nan'\n",
    "trans_df['ARRIVAL_DAY'] = trans_df['PRODUCT'].apply(get_day)\n",
    "\n",
    "# get difference in booking and arrival\n",
    "trans_df['BA_DIFF'] = 364\n",
    "for index, row in trans_df.iterrows():\n",
    "    if row['ARRIVAL_DAY'] != 'nan':\n",
    "        trans_df.loc[index, 'BA_DIFF'] = row['ARRIVAL_DAY'] - row['LOOK_DAY']\n",
    "        \n",
    "# aggregate to days\n",
    "trans_df = trans_df.groupby('LOOK_DATE').mean()\n",
    "\n",
    "# get weeks\n",
    "trans_df['BA_DIFF'] = trans_df['BA_DIFF'] / 7\n",
    "\n",
    "# postprocessing\n",
    "trans_df = trans_df.reset_index()\n",
    "trans_df.index += 1\n",
    "trans_df = trans_df.drop(['LOOK_DATE', 'INTRADAY', 'LOOK_DAY'], axis=1)"
   ]
  },
  {
   "cell_type": "code",
   "execution_count": 157,
   "metadata": {},
   "outputs": [],
   "source": [
    "trans_df.to_csv('../../../data/cabot_data/sprint_4/ba_diffs.csv')"
   ]
  },
  {
   "cell_type": "code",
   "execution_count": null,
   "metadata": {},
   "outputs": [],
   "source": []
  }
 ],
 "metadata": {
  "kernelspec": {
   "display_name": "Python 3",
   "language": "python",
   "name": "python3"
  },
  "language_info": {
   "codemirror_mode": {
    "name": "ipython",
    "version": 3
   },
   "file_extension": ".py",
   "mimetype": "text/x-python",
   "name": "python",
   "nbconvert_exporter": "python",
   "pygments_lexer": "ipython3",
   "version": "3.7.1"
  }
 },
 "nbformat": 4,
 "nbformat_minor": 2
}
