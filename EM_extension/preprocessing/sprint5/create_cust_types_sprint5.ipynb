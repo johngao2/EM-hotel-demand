{
 "cells": [
  {
   "cell_type": "code",
   "execution_count": null,
   "metadata": {},
   "outputs": [],
   "source": [
    "import pandas as pd\n",
    "import numpy as np\n",
    "import itertools\n",
    "import sys\n",
    "from ast import literal_eval"
   ]
  },
  {
   "cell_type": "code",
   "execution_count": null,
   "metadata": {},
   "outputs": [],
   "source": [
    "prod_num_map = pd.read_csv('../../../data/cabot_data/sprint_5/prod_num_map.csv',\n",
    "                           header=None, index_col=3)"
   ]
  },
  {
   "cell_type": "code",
   "execution_count": null,
   "metadata": {},
   "outputs": [],
   "source": [
    "# load bar helper function\n",
    "def progress(count, total, status=''):\n",
    "    bar_len = 60\n",
    "    filled_len = int(round(bar_len * count / float(total)))\n",
    "\n",
    "    percents = round(100.0 * count / float(total), 1)\n",
    "    bar = '=' * filled_len + '-' * (bar_len - filled_len)\n",
    "\n",
    "    sys.stdout.write('[%s] %s%s ...%s\\r' % (bar, percents, '%', status))\n",
    "    sys.stdout.flush()"
   ]
  },
  {
   "cell_type": "code",
   "execution_count": null,
   "metadata": {},
   "outputs": [],
   "source": [
    "# format product number map\n",
    "prod_num_map['prod_num'] = prod_num_map.index\n",
    "prod_num_map.index = prod_num_map['prod_num']\n",
    "prod_num_map = prod_num_map.drop(['prod_num'], axis=1)\n",
    "prod_cols = prod_num_map.index.tolist()\n",
    "num_products = max(prod_num_map.index.tolist())+1\n",
    "prod_cols.append(num_products)"
   ]
  },
  {
   "cell_type": "code",
   "execution_count": null,
   "metadata": {},
   "outputs": [],
   "source": [
    "# helper vars to store ranges\n",
    "units = prod_num_map[0].unique().tolist()\n",
    "dows = prod_num_map[1].unique().tolist()\n",
    "lens = prod_num_map[2].unique().tolist()"
   ]
  },
  {
   "cell_type": "code",
   "execution_count": null,
   "metadata": {},
   "outputs": [],
   "source": [
    "# blank cust types df\n",
    "num_rows = len(units)*len(dows)*len(lens)\n",
    "cust_types = pd.DataFrame(index=range(1, num_rows+1),\n",
    "                          columns=prod_cols)\n",
    "\n",
    "# blank row\n",
    "blank_type = pd.Series([0 for x in range(1, num_products+1)],\n",
    "                       index = prod_cols).astype(tuple)"
   ]
  },
  {
   "cell_type": "code",
   "execution_count": null,
   "metadata": {},
   "outputs": [],
   "source": [
    "# populate cust types with independent types\n",
    "idx_counter = 0\n",
    "total = len(cust_types)\n",
    "for unit in units:\n",
    "    for dow in dows:\n",
    "        for stay_len in lens:\n",
    "            progress(idx_counter, total, status='Filling in types')\n",
    "            new_row = blank_type.copy()\n",
    "            new_row.iloc[0] = (unit, dow, stay_len)\n",
    "            cust_types.iloc[idx_counter] = new_row # remember that df is 1 indexed\n",
    "            idx_counter += 1"
   ]
  },
  {
   "cell_type": "code",
   "execution_count": null,
   "metadata": {},
   "outputs": [],
   "source": [
    "row = cust_types.iloc[0,:]"
   ]
  },
  {
   "cell_type": "code",
   "execution_count": null,
   "metadata": {},
   "outputs": [],
   "source": [
    "cust_types"
   ]
  },
  {
   "cell_type": "code",
   "execution_count": null,
   "metadata": {
    "scrolled": true
   },
   "outputs": [],
   "source": [
    "# filter out non-weekend arrivals\n",
    "# for index, row in cust_types.iterrows():\n",
    "#     if row[1][2] < 5:\n",
    "#         cust_types = cust_types.drop(index)\n",
    "# cust_types_wend = cust_types.reset_index()\n",
    "# cust_types_wend.index += 1\n",
    "# cust_types_wend = cust_types_wend.drop('index', axis=1)"
   ]
  },
  {
   "cell_type": "code",
   "execution_count": null,
   "metadata": {},
   "outputs": [],
   "source": [
    "# add orderings (turned off atm for independent model)\n",
    "\n",
    "# # week orderings\n",
    "# week_orderings = []\n",
    "# for i in range(0, len(weeks)-1):\n",
    "#     week_orderings.append((weeks[i], weeks[i+1])) # normal week ordering\n",
    "#     week_orderings.append((weeks[i+1], weeks[i])) # reverse week ordering\n",
    "    \n",
    "# # unit orderings\n",
    "# unit_part_orderings = [('CD', 'CK', 'DD', 'DK', 'DKB'),\n",
    "#                        ('CD', 'DD'),\n",
    "#                        ('CD', 'DK', 'DKB')]\n",
    "# unit_orderings = []\n",
    "# for o in unit_part_orderings:\n",
    "#     unit_orderings.append(o)\n",
    "#     unit_orderings.append(o[::-1])\n",
    "# unit_orderings.append(['2BV'])\n",
    "# unit_orderings.append(['4BV'])\n",
    "\n",
    "# # combined orderings using cartesian products\n",
    "# comb_ordering = []\n",
    "# for cart_prod_1 in itertools.product(week_orderings, unit_orderings):\n",
    "        \n",
    "#     # week priority\n",
    "#     temp_order = []\n",
    "#     for cart_prod_2 in itertools.product(cart_prod_1[0], cart_prod_1[1]):\n",
    "#         temp_order.append(cart_prod_2)\n",
    "#     comb_ordering.append(temp_order)\n",
    "    \n",
    "#     # include unit priority if there's more than 1 unit selected\n",
    "#     if (len(cart_prod_1[1]) > 1): \n",
    "#         temp_order = []\n",
    "#         for cart_prod_2 in itertools.product(cart_prod_1[1], cart_prod_1[0]):\n",
    "#             temp_order.append(cart_prod_2[::-1])\n",
    "#         comb_ordering.append(temp_order)\n",
    "\n",
    "# # populate cust types (non-independent)\n",
    "# idx_counter = 1\n",
    "# for stay_length in lens:\n",
    "#     for dow in dows:\n",
    "#         for order in comb_ordering:\n",
    "#             progress(idx_counter, total, status='Filling in types')\n",
    "#             # making a series first makes it go faster\n",
    "#             new_row = blank_type.copy()\n",
    "#             for col_index, value in enumerate(order):\n",
    "#                 new_row.loc[col_index+1] = (value[1], value[0], dow, stay_length)\n",
    "#             cust_types.loc[idx_counter] = new_row\n",
    "#             idx_counter += 1"
   ]
  },
  {
   "cell_type": "code",
   "execution_count": null,
   "metadata": {},
   "outputs": [],
   "source": [
    "cust_types.to_csv('../../../data/cabot_data/sprint_5/types_s5_raw.csv')"
   ]
  },
  {
   "cell_type": "code",
   "execution_count": null,
   "metadata": {},
   "outputs": [],
   "source": [
    "cust_types_m = pd.read_csv('../../../data/cabot_data/sprint_5/types_s5_raw.csv', index_col=[0])"
   ]
  },
  {
   "cell_type": "code",
   "execution_count": null,
   "metadata": {},
   "outputs": [],
   "source": [
    "# import col tuple to number map\n",
    "prod_num_map = pd.read_csv('../../../data/cabot_data/sprint_5/prod_num_map.csv',\n",
    "                           header=None,\n",
    "                           index_col=[0,1,2])\n",
    "\n",
    "prod_num_map = pd.Series(prod_num_map.iloc[:,0])\n",
    "prod_num_map = prod_num_map.to_dict()"
   ]
  },
  {
   "cell_type": "code",
   "execution_count": null,
   "metadata": {},
   "outputs": [],
   "source": [
    "# convert strings to tuple and map to product number\n",
    "i = 1\n",
    "while len(cust_types_m[str(i)].nonzero()[0]) > 0:\n",
    "    cust_types_m[str(i)] = [literal_eval(x) for x in cust_types_m[str(i)]]\n",
    "    cust_types_m[str(i)] = cust_types_m[str(i)].map(prod_num_map)\n",
    "    i = i + 1"
   ]
  },
  {
   "cell_type": "code",
   "execution_count": null,
   "metadata": {
    "scrolled": true
   },
   "outputs": [],
   "source": [
    "# misc postprocessing\n",
    "cust_types_m = cust_types_m.fillna(0).astype(int)\n",
    "cust_types_m.index.names = ['cust_types']"
   ]
  },
  {
   "cell_type": "code",
   "execution_count": null,
   "metadata": {},
   "outputs": [],
   "source": [
    "cust_types_m.to_csv('../../../data/cabot_data/sprint_5/types_s5.csv')"
   ]
  },
  {
   "cell_type": "code",
   "execution_count": null,
   "metadata": {},
   "outputs": [],
   "source": []
  }
 ],
 "metadata": {
  "kernelspec": {
   "display_name": "Python 3",
   "language": "python",
   "name": "python3"
  },
  "language_info": {
   "codemirror_mode": {
    "name": "ipython",
    "version": 3
   },
   "file_extension": ".py",
   "mimetype": "text/x-python",
   "name": "python",
   "nbconvert_exporter": "python",
   "pygments_lexer": "ipython3",
   "version": "3.7.1"
  }
 },
 "nbformat": 4,
 "nbformat_minor": 2
}
