{
 "cells": [
  {
   "cell_type": "code",
   "execution_count": null,
   "metadata": {},
   "outputs": [],
   "source": [
    "import pandas as pd\n",
    "import numpy as np\n",
    "import os\n",
    "from datetime import timedelta, date\n",
    "import sys\n",
    "\n",
    "'''This script produces a file which shows availability. Each row is a booking\n",
    "date, and each col is a (room type, arrival week, arrival day of week, stay length) tuple'''\n",
    "\n",
    "df_data = pd.read_csv('../../../data/cabot_data/clean_base/2018_clean.csv',\n",
    "                       parse_dates = ['LOOK_DATE', 'ARRIVAL', 'DEPART'],\n",
    "                       infer_datetime_format = True,\n",
    "                       index_col = 'group_id')\n",
    "df_data = df_data.reset_index()\n",
    "\n",
    "df_caps = pd.read_csv('../../../data/cabot_data/clean_base/capacities.csv', index_col='UNIT')"
   ]
  },
  {
   "cell_type": "code",
   "execution_count": null,
   "metadata": {},
   "outputs": [],
   "source": [
    "pd.set_option('display.max_rows', 100)"
   ]
  },
  {
   "cell_type": "code",
   "execution_count": null,
   "metadata": {},
   "outputs": [],
   "source": [
    "# add stay len col to df_data\n",
    "df_data['stay_len'] = (df_data['DEPART'] - df_data['ARRIVAL']).dt.days\n",
    "# anything greater than 4 is 4\n",
    "df_data['stay_len_clean'] = df_data['stay_len'].apply(lambda x: 4 if x > 4 else x)"
   ]
  },
  {
   "cell_type": "code",
   "execution_count": null,
   "metadata": {},
   "outputs": [],
   "source": [
    "# helper vars\n",
    "look_start = df_data['LOOK_DATE'].min()\n",
    "look_end = df_data['LOOK_DATE'].max()\n",
    "look_range = pd.date_range(look_start, look_end)\n",
    "\n",
    "ssn_start = df_data['ARRIVAL'].min()\n",
    "ssn_end = df_data['ARRIVAL'].max()\n",
    "ssn_range = pd.date_range(ssn_start, ssn_end)\n",
    "\n",
    "# get season week range\n",
    "ssn_weeks = ssn_range.week.drop_duplicates().tolist()\n",
    "\n",
    "# get max periods per day from transactions script\n",
    "periods_per_day = (df_data[df_data['CANCEL_INDICATOR'] == 0] # look at bookings only\n",
    "                   .drop(['CANCEL_INDICATOR'], axis=1)\n",
    "                   .groupby('group_id').first() # collapse groups\n",
    "                   .sort_values('LOOK_DATE')\n",
    "                   .groupby(by=['LOOK_DATE']).count()\n",
    "                   .max()[0])\n",
    "intraday_range = range(1, periods_per_day+1)\n",
    "\n",
    "# list of days in week\n",
    "week_days = [1, 2, 3, 4, 5, 6, 7]\n",
    "\n",
    "# list of stay lengths (4 refers to 4 days or more)\n",
    "stay_lens = [1, 2, 3, 4]\n",
    "\n",
    "# room type list\n",
    "df_grouped_types = df_data.groupby(by='UNIT').count()\n",
    "unit_list = df_grouped_types.index.tolist()"
   ]
  },
  {
   "cell_type": "code",
   "execution_count": null,
   "metadata": {},
   "outputs": [],
   "source": [
    "# initializing blank avail df\n",
    "# create blank df\n",
    "df_avail = pd.DataFrame(index=look_range,\n",
    "                        columns=pd.MultiIndex.from_product([unit_list, ssn_weeks, week_days, stay_lens], \n",
    "                                                           names=['UNIT', 'week', 'dow', 'stay_len']))\n",
    "df_avail = df_avail.fillna(0.0)\n",
    "\n",
    "# add default capacities\n",
    "for index, row in df_caps.iterrows():\n",
    "    df_avail[index] = df_avail[index] + row['CAPACITY']"
   ]
  },
  {
   "cell_type": "code",
   "execution_count": null,
   "metadata": {},
   "outputs": [],
   "source": [
    "# helper load bar function\n",
    "def progress(count, total, status=''):\n",
    "    bar_len = 60\n",
    "    filled_len = int(round(bar_len * count / float(total)))\n",
    "\n",
    "    percents = round(100.0 * count / float(total), 1)\n",
    "    bar = '=' * filled_len + '-' * (bar_len - filled_len)\n",
    "\n",
    "    sys.stdout.write('[%s] %s%s ...%s\\r' % (bar, percents, '%', status))\n",
    "    sys.stdout.flush()\n",
    "total = len(df_data)"
   ]
  },
  {
   "cell_type": "code",
   "execution_count": null,
   "metadata": {
    "scrolled": true
   },
   "outputs": [],
   "source": [
    "for index, row in df_data.iterrows():\n",
    "    progress(index, total, status='Filling in availability')\n",
    "    \n",
    "    cap_change = 1/row['grp_size']\n",
    "    \n",
    "    # book arrive delta, must subtract capacity for all these dates\n",
    "    ba_delta = pd.date_range(row['LOOK_DATE'], row['ARRIVAL'])\n",
    "    \n",
    "    # helper vars\n",
    "    unit = row['UNIT']\n",
    "    week = row['ARRIVAL'].week\n",
    "    dow = row['ARRIVAL'].dayofweek + 1\n",
    "    stay_len = row['stay_len']\n",
    "    \n",
    "    # subtract or add capacity for each day b/w look and arrive\n",
    "    if row['CANCEL_INDICATOR'] == 0:\n",
    "        for look_date in ba_delta:\n",
    "            for n in range(0, stay_len):\n",
    "                dow_temp = (n + dow-1) % 7 + 1 # points to day of week\n",
    "                week_temp = (week + (n + dow - 1)//7)  # moves week forward 1 if stay crosses over into next week\n",
    "                num_lengths_affected = min(stay_len - n, 4) # tracks which stay lengths are affected\n",
    "                for length in range(0, num_lengths_affected):\n",
    "                    df_avail.loc[look_date, (unit, week_temp, dow_temp, length+1)] -= cap_change\n",
    "    else:\n",
    "        for look_date in ba_delta:\n",
    "            for n in range(0, stay_len):\n",
    "                dow_temp = (n + dow-1) % 7 + 1\n",
    "                week_temp = (week + (n + dow - 1)//7)\n",
    "                num_lengths_affected = min(stay_len - n, 4)\n",
    "                for length in range(0, num_lengths_affected):\n",
    "                    df_avail.loc[look_date, (unit, week_temp, dow_temp, length+1)] += cap_change"
   ]
  },
  {
   "cell_type": "code",
   "execution_count": null,
   "metadata": {},
   "outputs": [],
   "source": [
    "# create intraday template to cross join with avail df\n",
    "df_intra_template = pd.DataFrame(index=intraday_range)\n",
    "df_intra_template = df_intra_template.reset_index().rename(index=int, columns={'index':'intraday'})\n",
    "df_intra_template\n",
    "\n",
    "df_avail = df_avail.reset_index().rename(index=int, columns={'index':'look_date'})\n",
    "\n",
    "# cross join\n",
    "df_avail['key'] = 0\n",
    "df_intra_template['key'] = 0\n",
    "df_avail = df_avail.merge(df_intra_template, on='key', how='outer')\n",
    "\n",
    "# tidy up avail\n",
    "df_avail = df_avail.rename(index=str, columns={('look_date','','',''): 'look_date'})\n",
    "df_avail = df_avail.set_index(['look_date', 'intraday'])\n",
    "df_avail = df_avail.drop(['key', ('key', '', '', '')], axis=1)\n",
    "df_avail.columns = pd.MultiIndex.from_tuples(df_avail.columns,\n",
    "                                             names=['UNIT', 'week', 'dow', 'stay_length'])\n",
    "\n",
    "# save\n",
    "df_avail.to_csv('../../../data/cabot_data/sprint_2/avail_s2_raw.csv')"
   ]
  },
  {
   "cell_type": "markdown",
   "metadata": {},
   "source": [
    "# S4 CODE STARTS HERE"
   ]
  },
  {
   "cell_type": "code",
   "execution_count": null,
   "metadata": {},
   "outputs": [],
   "source": [
    "df_avail_t = pd.read_csv('../../../data/cabot_data/sprint_2/avail_s2_raw.csv',\n",
    "                       index_col = [0,1],\n",
    "                       header=[0,1,2,3])"
   ]
  },
  {
   "cell_type": "code",
   "execution_count": null,
   "metadata": {},
   "outputs": [],
   "source": [
    "# aggregate weeks\n",
    "df_avail_t = df_avail_t.groupby(axis=1,level=['UNIT','dow','stay_length']).sum()"
   ]
  },
  {
   "cell_type": "code",
   "execution_count": null,
   "metadata": {},
   "outputs": [],
   "source": [
    "# # fix negative room values\n",
    "# min_units = df_avail_t.min()\n",
    "\n",
    "# df_avail_t[('4BV', '43')].min(level='look_date').to_csv('4bv_test.csv')\n",
    "\n",
    "# min_df = min_units.min(level='look_date')\n",
    "# min_df[(min_df < 0).any(1)]"
   ]
  },
  {
   "cell_type": "code",
   "execution_count": null,
   "metadata": {},
   "outputs": [],
   "source": [
    "# convert to a form that ipopt can understand\n",
    "\n",
    "# reset to numbered rows\n",
    "df_avail_t = df_avail_t.reset_index()\n",
    "df_avail_t.index = df_avail_t.index + 1\n",
    "\n",
    "# drop old indexes, make T new index\n",
    "df_avail_t = df_avail_t.drop(['look_date', 'intraday'], axis=1)\n",
    "df_avail_t.index = df_avail_t.index.rename('T')\n",
    "\n",
    "# map values to 1s and 0s\n",
    "df_avail_t = df_avail_t.applymap(lambda x: 0 if x <= 0 else 1)\n",
    "df_avail_t.columns = df_avail_t.columns.tolist()\n",
    "\n",
    "# map product tuples to numbers\n",
    "prod_list = df_avail_t.columns.tolist()\n",
    "prod_num_map = {prod_list[i]: i+1 for i in range(0, len(prod_list))}\n",
    "prod_num_map = pd.Series(prod_num_map)\n",
    "\n",
    "# save product mapping\n",
    "prod_num_map.to_csv('../../../data/cabot_data/sprint_5/prod_num_map.csv')"
   ]
  },
  {
   "cell_type": "code",
   "execution_count": null,
   "metadata": {},
   "outputs": [],
   "source": [
    "# import col tuple to number map\n",
    "prod_num_map = pd.read_csv('../../../data/cabot_data/sprint_5/prod_num_map.csv',\n",
    "                           header=None,\n",
    "                           index_col=[0,1,2])\n",
    "\n",
    "prod_num_map = pd.Series(prod_num_map.iloc[:,0])\n",
    "prod_num_map = prod_num_map.to_dict()\n",
    "\n",
    "# map cols to numbers\n",
    "df_avail_t.columns = prod_num_map.values()"
   ]
  },
  {
   "cell_type": "code",
   "execution_count": null,
   "metadata": {},
   "outputs": [],
   "source": [
    "df_avail_t.to_csv('../../../data/cabot_data/sprint_5/avail_s5.csv')"
   ]
  },
  {
   "cell_type": "code",
   "execution_count": null,
   "metadata": {},
   "outputs": [],
   "source": []
  }
 ],
 "metadata": {
  "kernelspec": {
   "display_name": "Python 3",
   "language": "python",
   "name": "python3"
  },
  "language_info": {
   "codemirror_mode": {
    "name": "ipython",
    "version": 3
   },
   "file_extension": ".py",
   "mimetype": "text/x-python",
   "name": "python",
   "nbconvert_exporter": "python",
   "pygments_lexer": "ipython3",
   "version": "3.7.1"
  }
 },
 "nbformat": 4,
 "nbformat_minor": 2
}
