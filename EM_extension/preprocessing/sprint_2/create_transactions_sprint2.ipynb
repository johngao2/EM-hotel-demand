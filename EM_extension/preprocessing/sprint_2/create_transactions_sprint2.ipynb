{
 "cells": [
  {
   "cell_type": "code",
   "execution_count": 155,
   "metadata": {
    "scrolled": true
   },
   "outputs": [],
   "source": [
    "import pandas as pd\n",
    "import numpy as np\n",
    "import os\n",
    "from datetime import timedelta, date\n",
    "\n",
    "'''This script produces a file which shows transactions. Each row is a transaction\n",
    "with arrival, depart, and room type.'''\n",
    "\n",
    "def daterange(start_date, end_date):\n",
    "    for n in range(int ((end_date - start_date).days)):\n",
    "        yield start_date + timedelta(n)\n",
    "\n",
    "# load raw hotel data\n",
    "purchases_df = pd.read_csv('data/2018_clean.csv', parse_dates=['ARRIVAL', 'DEPART', 'LOOK_DATE'])\n",
    "purchases_df = (purchases_df[purchases_df['CANCEL_INDICATOR'] == 0] # look at bookings only\n",
    "                .drop(['RESNO', 'CANCEL_INDICATOR'], axis=1)\n",
    "                .groupby('group_id').first() # collapse groups\n",
    "                .sort_values('LOOK_DATE'))\n",
    "\n",
    "# initialize some helper vars\n",
    "df_grouped = purchases_df.groupby(by=['LOOK_DATE', 'ARRIVAL']).count()\n",
    "periods_per_day = df_grouped['DEPART'].max()\n",
    "\n",
    "look_start = purchases_df['LOOK_DATE'].min()\n",
    "look_end = purchases_df['LOOK_DATE'].max()\n",
    "\n",
    "ssn_start = purchases_df['ARRIVAL'].min()\n",
    "ssn_end =http://localhost:8888/notebooks/EM_extension/preprocessing/create_transactions.ipynb# purchases_df['ARRIVAL'].max()"
   ]
  },
  {
   "cell_type": "code",
   "execution_count": 157,
   "metadata": {
    "scrolled": true
   },
   "outputs": [],
   "source": [
    "# build empty trans df\n",
    "intraday_range = range(0, periods_per_day)\n",
    "look_range = pd.date_range(look_start, look_end)\n",
    "ssn_range = pd.date_range(ssn_start, ssn_end)\n",
    "\n",
    "trans_df = pd.DataFrame(index = pd.MultiIndex.from_product([look_range, ssn_range, intraday_range], \n",
    "                                                           names=['LOOK_DATE', 'ARRIVAL', 'INTRADAY']),\n",
    "                        columns=['UNIT'])"
   ]
  },
  {
   "cell_type": "code",
   "execution_count": null,
   "metadata": {
    "scrolled": false
   },
   "outputs": [],
   "source": [
    "# fill in purchases\n",
    "for index, row in purchases_df.iterrows():\n",
    "    intra_day_counter = 0 # counter var for intra day\n",
    "    cur_cell = (row['LOOK_DATE'], row['ARRIVAL'], intra_day_counter)\n",
    "    while(trans_df.loc[cur_cell].notnull()[0]): # find empty cell\n",
    "        intra_day_counter += 1\n",
    "        cur_cell = (row['LOOK_DATE'], row['ARRIVAL'], intra_day_counter)\n",
    "    trans_df.loc[cur_cell] = row['UNIT']\n",
    "    print(row['LOOK_DATE'])"
   ]
  },
  {
   "cell_type": "code",
   "execution_count": null,
   "metadata": {},
   "outputs": [],
   "source": [
    "trans_df.to_csv('data/transactions_pre_dates.csv')"
   ]
  },
  {
   "cell_type": "code",
   "execution_count": 210,
   "metadata": {},
   "outputs": [],
   "source": [
    "# create alternate version with t seasons and numbered products\n",
    "trans_df_t = pd.read_csv('data/transactions_pre_dates.csv')\n",
    "trans_df_t = (trans_df_t.reset_index()\n",
    "              .drop(['LOOK_DATE', 'ARRIVAL', 'INTRADAY'], axis=1))\n",
    "trans_df_t.index = trans_df_t.index.rename('T')\n",
    "trans_df_t['UNIT'] = trans_df_t['UNIT'].map({'CD': 1, 'DD': 2, 'CK': 3, 'DK': 4,\n",
    "                                             'DKB': 5, '2BV': 6, '4BV': 7})\n",
    "\n",
    "trans_df_t = trans_df_t.fillna(int(0))\n",
    "trans_df_t['UNIT'] = trans_df_t['UNIT'].astype(int)"
   ]
  },
  {
   "cell_type": "code",
   "execution_count": null,
   "metadata": {},
   "outputs": [],
   "source": [
    "trans_df_t.to_csv('data/transactions_pre_t.csv')"
   ]
  }
 ],
 "metadata": {
  "kernelspec": {
   "display_name": "Python 3",
   "language": "python",
   "name": "python3"
  },
  "language_info": {
   "codemirror_mode": {
    "name": "ipython",
    "version": 3
   },
   "file_extension": ".py",
   "mimetype": "text/x-python",
   "name": "python",
   "nbconvert_exporter": "python",
   "pygments_lexer": "ipython3",
   "version": "3.7.1"
  }
 },
 "nbformat": 4,
 "nbformat_minor": 2
}
