{
 "cells": [
  {
   "cell_type": "code",
   "execution_count": 90,
   "metadata": {},
   "outputs": [],
   "source": [
    "import pandas as pd"
   ]
  },
  {
   "cell_type": "code",
   "execution_count": 91,
   "metadata": {},
   "outputs": [],
   "source": [
    "# blank df\n",
    "cust_types = pd.DataFrame(columns=['rank_' + str(i) for i in range(1,9)])\n",
    "cust_types['cust_type'] = ''\n",
    "cust_types = cust_types.set_index('cust_type')\n",
    "\n",
    "# add customer types\n",
    "\n",
    "# flexible customer, prefers cheap\n",
    "cust_types = cust_types.append({'rank_1': 'CD', 'rank_2': 'CK', 'rank_3': 'DD',\n",
    "                   'rank_4': 'DK', 'rank_5': 'DKB'}, ignore_index=True)\n",
    "\n",
    "# flexible customer, prefers expensive\n",
    "cust_types = cust_types.append({'rank_1': 'DKB', 'rank_2': 'DK', 'rank_3': 'DD',\n",
    "                   'rank_4': 'CK', 'rank_5': 'CD'}, ignore_index=True)\n",
    "\n",
    "# double only customer, prefers cheap\n",
    "cust_types = cust_types.append({'rank_1': 'CD', 'rank_2': 'DD'}, ignore_index=True)\n",
    "\n",
    "# double only customer, prefers expensive\n",
    "cust_types = cust_types.append({'rank_1': 'DD', 'rank_2': 'CD'}, ignore_index=True)\n",
    "\n",
    "# king only customer, prefers cheap\n",
    "cust_types = cust_types.append({'rank_1': 'CK', 'rank_2': 'DK', 'rank_3': 'DKB'}, ignore_index=True)\n",
    "\n",
    "# king only customer, prefers expensive\n",
    "cust_types = cust_types.append({'rank_1': 'DKB', 'rank_2': 'DK', 'rank_3': 'CK'}, ignore_index=True)\n",
    "\n",
    "# 2BV customer\n",
    "cust_types = cust_types.append({'rank_1': '2BV'}, ignore_index=True)\n",
    "\n",
    "# 4BV customer\n",
    "cust_types = cust_types.append({'rank_1': '4BV'}, ignore_index=True)\n",
    "\n",
    "cust_types = cust_types.fillna(0)\n",
    "cust_types.index += 1\n",
    "cust_types.index.name = 'cust_type'\n",
    "\n",
    "\n",
    "# map to numbers\n",
    "cust_types = cust_types.apply(lambda x: x.map({'CD': 1, 'DD': 2, 'CK': 3, 'DK': 4,\n",
    "                                  'DKB': 5, '2BV': 6, '4BV': 7, 0: 0}),\n",
    "                 axis=1)\n",
    "\n",
    "# output\n",
    "cust_types.to_csv('data/types_sprint1.csv')"
   ]
  },
  {
   "cell_type": "code",
   "execution_count": null,
   "metadata": {},
   "outputs": [],
   "source": []
  }
 ],
 "metadata": {
  "kernelspec": {
   "display_name": "Python 3",
   "language": "python",
   "name": "python3"
  },
  "language_info": {
   "codemirror_mode": {
    "name": "ipython",
    "version": 3
   },
   "file_extension": ".py",
   "mimetype": "text/x-python",
   "name": "python",
   "nbconvert_exporter": "python",
   "pygments_lexer": "ipython3",
   "version": "3.7.1"
  }
 },
 "nbformat": 4,
 "nbformat_minor": 2
}
