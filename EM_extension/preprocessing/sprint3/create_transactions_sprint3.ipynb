{
 "cells": [
  {
   "cell_type": "code",
   "execution_count": null,
   "metadata": {
    "scrolled": true
   },
   "outputs": [],
   "source": [
    "import pandas as pd\n",
    "import numpy as np\n",
    "import os\n",
    "from datetime import timedelta, date\n",
    "from ast import literal_eval\n",
    "\n",
    "'''This script produces a file which shows transactions. Each row is a transaction\n",
    "with arrival, depart, and room type.'''\n",
    "\n",
    "def daterange(start_date, end_date):\n",
    "    for n in range(int ((end_date - start_date).days)):\n",
    "        yield start_date + timedelta(n)\n",
    "\n",
    "# load purchase data\n",
    "purchases_df = pd.read_csv('../../../data/cabot_data/clean_base/2018_clean.csv',\n",
    "                           parse_dates=['ARRIVAL', 'DEPART', 'LOOK_DATE'])eeee\n",
    "purchases_df = (purchases_df[purchases_df['CANCEL_INDICATOR'] == 0] # look at bookings only\n",
    "                .drop(['RESNO', 'CANCEL_INDICATOR'], axis=1)\n",
    "                .groupby('group_id').first() # collapse groups\n",
    "                .sort_values('LOOK_DATE'))\n",
    "\n",
    "# add stay len col to df_data\n",
    "purchases_df['stay_len'] = (purchases_df['DEPART'] - purchases_df['ARRIVAL']).dt.days\n",
    "# anything greater than 4 is 4\n",
    "purchases_df['stay_len'] = purchases_df['stay_len'].apply(lambda x: 4 if x > 4 else x)\n",
    "\n",
    "# initialize some helper vars\n",
    "df_grouped = purchases_df.groupby(by=['LOOK_DATE']).count()\n",
    "periods_per_day = df_grouped['DEPART'].max()\n",
    "\n",
    "look_start = purchases_df['LOOK_DATE'].min()\n",
    "look_end = purchases_df['LOOK_DATE'].max()\n",
    "\n",
    "ssn_start = purchases_df['ARRIVAL'].min()\n",
    "ssn_end = purchases_df['ARRIVAL'].max()"
   ]
  },
  {
   "cell_type": "code",
   "execution_count": null,
   "metadata": {
    "scrolled": true
   },
   "outputs": [],
   "source": [
    "# build empty trans df\n",
    "intraday_range = range(1, periods_per_day+1)\n",
    "look_range = pd.date_range(look_start, look_end)\n",
    "ssn_range = pd.date_range(ssn_start, ssn_end)\n",
    "\n",
    "trans_df = pd.DataFrame(index = pd.MultiIndex.from_product([look_range, intraday_range], \n",
    "                                                           names=['LOOK_DATE', 'INTRADAY']),\n",
    "                        columns=['PRODUCT'])"
   ]
  },
  {
   "cell_type": "code",
   "execution_count": null,
   "metadata": {},
   "outputs": [],
   "source": [
    "# fill in purchases\n",
    "for index, row in purchases_df.iterrows():\n",
    "    \n",
    "    # helper vars\n",
    "    unit = row['UNIT']\n",
    "    week = row['ARRIVAL'].week\n",
    "    dow = row['ARRIVAL'].dayofweek + 1\n",
    "    stay_len = row['stay_len']\n",
    "    \n",
    "    intra_day_counter = 1 # counter var for intra day\n",
    "    cur_cell = (row['LOOK_DATE'], intra_day_counter)\n",
    "    while(trans_df.loc[cur_cell].notnull()[0]): # find empty cell\n",
    "        intra_day_counter += 1\n",
    "        cur_cell = (row['LOOK_DATE'], intra_day_counter)\n",
    "    trans_df.loc[cur_cell] = [(row['UNIT'], week, dow, stay_len)]\n",
    "    print(row['LOOK_DATE'])"
   ]
  },
  {
   "cell_type": "code",
   "execution_count": null,
   "metadata": {},
   "outputs": [],
   "source": [
    "trans_df.to_csv('../../../data/cabot_data/sprint_3/trans_s3_raw.csv')"
   ]
  },
  {
   "cell_type": "code",
   "execution_count": null,
   "metadata": {},
   "outputs": [],
   "source": [
    "trans_df_t = pd.read_csv('../../../data/cabot_data/sprint_3/trans_s3_raw.csv', index_col=['LOOK_DATE', 'INTRADAY'])\n",
    "prod_num_map = pd.read_csv('../../../data/cabot_data/sprint_2/prod_num_map.csv',\n",
    "                           header=None,\n",
    "                           index_col=[0,1,2,3])\n",
    "\n",
    "# import product number mapping\n",
    "prod_num_map = pd.Series(prod_num_map.iloc[:,0])\n",
    "prod_num_map = prod_num_map.to_dict()\n",
    "\n",
    "# convert product strings to tuples, and map\n",
    "trans_df_t = trans_df_t.fillna('0')\n",
    "trans_df_t['PRODUCT'] = [literal_eval(x) for x in trans_df_t['PRODUCT']]\n",
    "trans_df_t['PRODUCT'] = trans_df_t['PRODUCT'].map(prod_num_map)\n",
    "\n",
    "# misc processing\n",
    "trans_df_t = trans_df_t.fillna(0).astype(int)\n",
    "trans_df_t = trans_df_t.reset_index()\n",
    "trans_df_t = trans_df_t.drop(['LOOK_DATE', 'INTRADAY'], axis=1)\n",
    "trans_df_t.index += 1\n",
    "\n",
    "# save\n",
    "trans_df_t.to_csv('../../../data/cabot_data/sprint_3/trans_s3.csv')"
   ]
  },
  {
   "cell_type": "code",
   "execution_count": null,
   "metadata": {},
   "outputs": [],
   "source": []
  },
  {
   "cell_type": "code",
   "execution_count": null,
   "metadata": {},
   "outputs": [],
   "source": []
  }
 ],
 "metadata": {
  "kernelspec": {
   "display_name": "Python 3",
   "language": "python",
   "name": "python3"
  },
  "language_info": {
   "codemirror_mode": {
    "name": "ipython",
    "version": 3
   },
   "file_extension": ".py",
   "mimetype": "text/x-python",
   "name": "python",
   "nbconvert_exporter": "python",
   "pygments_lexer": "ipython3",
   "version": "3.7.1"
  }
 },
 "nbformat": 4,
 "nbformat_minor": 2
}
