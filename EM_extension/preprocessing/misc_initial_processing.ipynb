{
 "cells": [
  {
   "cell_type": "code",
   "execution_count": 1,
   "metadata": {},
   "outputs": [],
   "source": [
    "import pandas as pd"
   ]
  },
  {
   "cell_type": "code",
   "execution_count": 141,
   "metadata": {},
   "outputs": [],
   "source": [
    "df = pd.read_csv('data/2018_original.csv',\n",
    "                 parse_dates=['ARRIVAL', 'DEPART', 'BOOKING'],\n",
    "                 dayfirst=True)\n",
    "df_units = pd.read_csv('data/room_number_type_mapping.csv',\n",
    "                       dtype={'room_number': object})"
   ]
  },
  {
   "cell_type": "code",
   "execution_count": 142,
   "metadata": {},
   "outputs": [
    {
     "data": {
      "text/html": [
       "<div>\n",
       "<style scoped>\n",
       "    .dataframe tbody tr th:only-of-type {\n",
       "        vertical-align: middle;\n",
       "    }\n",
       "\n",
       "    .dataframe tbody tr th {\n",
       "        vertical-align: top;\n",
       "    }\n",
       "\n",
       "    .dataframe thead th {\n",
       "        text-align: right;\n",
       "    }\n",
       "</style>\n",
       "<table border=\"1\" class=\"dataframe\">\n",
       "  <thead>\n",
       "    <tr style=\"text-align: right;\">\n",
       "      <th></th>\n",
       "      <th>UNIT</th>\n",
       "      <th>RESNO</th>\n",
       "      <th>ARRIVAL</th>\n",
       "      <th>DEPART</th>\n",
       "      <th>BOOKING</th>\n",
       "    </tr>\n",
       "    <tr>\n",
       "      <th>CANCEL_INDICATOR</th>\n",
       "      <th></th>\n",
       "      <th></th>\n",
       "      <th></th>\n",
       "      <th></th>\n",
       "      <th></th>\n",
       "    </tr>\n",
       "  </thead>\n",
       "  <tbody>\n",
       "    <tr>\n",
       "      <th>0</th>\n",
       "      <td>184721</td>\n",
       "      <td>184721</td>\n",
       "      <td>184721</td>\n",
       "      <td>184721</td>\n",
       "      <td>184721</td>\n",
       "    </tr>\n",
       "    <tr>\n",
       "      <th>1</th>\n",
       "      <td>598</td>\n",
       "      <td>598</td>\n",
       "      <td>598</td>\n",
       "      <td>598</td>\n",
       "      <td>598</td>\n",
       "    </tr>\n",
       "  </tbody>\n",
       "</table>\n",
       "</div>"
      ],
      "text/plain": [
       "                    UNIT   RESNO  ARRIVAL  DEPART  BOOKING\n",
       "CANCEL_INDICATOR                                          \n",
       "0                 184721  184721   184721  184721   184721\n",
       "1                    598     598      598     598      598"
      ]
     },
     "execution_count": 142,
     "metadata": {},
     "output_type": "execute_result"
    }
   ],
   "source": [
    "df.groupby('CANCEL_INDICATOR').count()"
   ]
  },
  {
   "cell_type": "code",
   "execution_count": 143,
   "metadata": {},
   "outputs": [],
   "source": [
    "df = df.drop_duplicates()"
   ]
  },
  {
   "cell_type": "code",
   "execution_count": 144,
   "metadata": {},
   "outputs": [
    {
     "data": {
      "text/html": [
       "<div>\n",
       "<style scoped>\n",
       "    .dataframe tbody tr th:only-of-type {\n",
       "        vertical-align: middle;\n",
       "    }\n",
       "\n",
       "    .dataframe tbody tr th {\n",
       "        vertical-align: top;\n",
       "    }\n",
       "\n",
       "    .dataframe thead th {\n",
       "        text-align: right;\n",
       "    }\n",
       "</style>\n",
       "<table border=\"1\" class=\"dataframe\">\n",
       "  <thead>\n",
       "    <tr style=\"text-align: right;\">\n",
       "      <th></th>\n",
       "      <th>UNIT</th>\n",
       "      <th>RESNO</th>\n",
       "      <th>ARRIVAL</th>\n",
       "      <th>DEPART</th>\n",
       "      <th>BOOKING</th>\n",
       "    </tr>\n",
       "    <tr>\n",
       "      <th>CANCEL_INDICATOR</th>\n",
       "      <th></th>\n",
       "      <th></th>\n",
       "      <th></th>\n",
       "      <th></th>\n",
       "      <th></th>\n",
       "    </tr>\n",
       "  </thead>\n",
       "  <tbody>\n",
       "    <tr>\n",
       "      <th>0</th>\n",
       "      <td>10532</td>\n",
       "      <td>10532</td>\n",
       "      <td>10532</td>\n",
       "      <td>10532</td>\n",
       "      <td>10532</td>\n",
       "    </tr>\n",
       "    <tr>\n",
       "      <th>1</th>\n",
       "      <td>387</td>\n",
       "      <td>387</td>\n",
       "      <td>387</td>\n",
       "      <td>387</td>\n",
       "      <td>387</td>\n",
       "    </tr>\n",
       "  </tbody>\n",
       "</table>\n",
       "</div>"
      ],
      "text/plain": [
       "                   UNIT  RESNO  ARRIVAL  DEPART  BOOKING\n",
       "CANCEL_INDICATOR                                        \n",
       "0                 10532  10532    10532   10532    10532\n",
       "1                   387    387      387     387      387"
      ]
     },
     "execution_count": 144,
     "metadata": {},
     "output_type": "execute_result"
    }
   ],
   "source": [
    "df.groupby('CANCEL_INDICATOR').count()"
   ]
  },
  {
   "cell_type": "code",
   "execution_count": 145,
   "metadata": {
    "scrolled": true
   },
   "outputs": [],
   "source": [
    "# convert units to codes\n",
    "df['UNIT'] = df['UNIT'].astype(str)\n",
    "room_mapping_df = df_units.set_index('room_number')\n",
    "room_mapping_dict = room_mapping_df.to_dict()['room_type']\n",
    "df['UNIT_num'] = df['UNIT'].copy()\n",
    "df['UNIT'] = df['UNIT'].replace(room_mapping_dict)\n",
    "df['UNIT_num'] = df['UNIT_num'].astype(int)"
   ]
  },
  {
   "cell_type": "code",
   "execution_count": 146,
   "metadata": {},
   "outputs": [],
   "source": [
    "# create group ID's\n",
    "df['group_id'] = df.groupby(['UNIT_num', 'ARRIVAL', 'DEPART']).ngroup()\n",
    "\n",
    "df = df.set_index('group_id')"
   ]
  },
  {
   "cell_type": "code",
   "execution_count": 189,
   "metadata": {
    "scrolled": true
   },
   "outputs": [
    {
     "data": {
      "text/plain": [
       "group_id\n",
       "0       5\n",
       "1       4\n",
       "2       2\n",
       "3       4\n",
       "4       1\n",
       "5       2\n",
       "6       3\n",
       "7       4\n",
       "8       6\n",
       "9       4\n",
       "10      4\n",
       "11      3\n",
       "12      3\n",
       "13      4\n",
       "14      4\n",
       "15      7\n",
       "16      1\n",
       "17      4\n",
       "18      1\n",
       "19      4\n",
       "20      1\n",
       "21      7\n",
       "22      1\n",
       "23      4\n",
       "24      4\n",
       "25      4\n",
       "26      4\n",
       "27      1\n",
       "28      1\n",
       "29      4\n",
       "       ..\n",
       "5934    1\n",
       "5935    4\n",
       "5936    2\n",
       "5937    1\n",
       "5938    1\n",
       "5939    1\n",
       "5940    2\n",
       "5941    1\n",
       "5942    1\n",
       "5943    2\n",
       "5944    1\n",
       "5945    2\n",
       "5946    3\n",
       "5947    4\n",
       "5948    1\n",
       "5949    1\n",
       "5950    1\n",
       "5951    2\n",
       "5952    2\n",
       "5953    1\n",
       "5954    1\n",
       "5955    3\n",
       "5956    1\n",
       "5957    2\n",
       "5958    2\n",
       "5959    2\n",
       "5960    1\n",
       "5961    1\n",
       "5962    1\n",
       "5963    1\n",
       "Length: 5964, dtype: int64"
      ]
     },
     "execution_count": 189,
     "metadata": {},
     "output_type": "execute_result"
    }
   ],
   "source": []
  },
  {
   "cell_type": "code",
   "execution_count": null,
   "metadata": {},
   "outputs": [],
   "source": []
  }
 ],
 "metadata": {
  "kernelspec": {
   "display_name": "Python 3",
   "language": "python",
   "name": "python3"
  },
  "language_info": {
   "codemirror_mode": {
    "name": "ipython",
    "version": 3
   },
   "file_extension": ".py",
   "mimetype": "text/x-python",
   "name": "python",
   "nbconvert_exporter": "python",
   "pygments_lexer": "ipython3",
   "version": "3.7.1"
  }
 },
 "nbformat": 4,
 "nbformat_minor": 2
}
