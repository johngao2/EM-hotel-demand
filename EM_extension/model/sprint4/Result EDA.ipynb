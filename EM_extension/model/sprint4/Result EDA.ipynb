{
 "cells": [
  {
   "cell_type": "code",
   "execution_count": 69,
   "metadata": {},
   "outputs": [],
   "source": [
    "import pandas as pd\n",
    "import numpy as np\n",
    "import os\n",
    "from datetime import timedelta, date\n",
    "from ast import literal_eval\n",
    "\n",
    "# load transaction data\n",
    "trans_df = pd.read_csv('../../../data/cabot_data/sprint_3/trans_s3_raw.csv',\n",
    "                       parse_dates=['LOOK_DATE'])\n",
    "\n",
    "# load predicted lambdas\n",
    "lamb_df = pd.read_csv('/Users/johngao/work/thesis/em-hotel-demand-estimation/EM_extension/model/sprint4/sprint4_results.csv')"
   ]
  },
  {
   "cell_type": "code",
   "execution_count": 59,
   "metadata": {
    "scrolled": true
   },
   "outputs": [],
   "source": [
    "# get binary values from purchases\n",
    "trans_df['PURCHASE_TF'] = trans_df['PRODUCT'].astype(str) != 'nan'\n",
    "trans_df['PURCHASE_TF'] = trans_df.apply(lambda row: 1 if row['PURCHASE_TF'] == True else 0, axis=1)\n",
    "\n",
    "# get look weeks\n",
    "trans_df['LOOK_WEEK'] = trans_df.apply(lambda row: row['LOOK_DATE'].week, axis=1)"
   ]
  },
  {
   "cell_type": "code",
   "execution_count": 77,
   "metadata": {},
   "outputs": [],
   "source": [
    "num_days = 299"
   ]
  },
  {
   "cell_type": "code",
   "execution_count": 81,
   "metadata": {},
   "outputs": [],
   "source": [
    "# process predicted lambdas\n",
    "lamb_df = lamb_df.iloc[lamb_df.index > len(lamb_df) - (num_days + 1),:]"
   ]
  },
  {
   "cell_type": "code",
   "execution_count": 62,
   "metadata": {},
   "outputs": [],
   "source": [
    "counts_df_daily = trans_df[['LOOK_DATE', 'PURCHASE_TF', 'LOOK_WEEK']]"
   ]
  },
  {
   "cell_type": "code",
   "execution_count": null,
   "metadata": {},
   "outputs": [],
   "source": [
    "counts_df_daily = counts_df_daily.groupby('LOOK_DATE').sum()"
   ]
  },
  {
   "cell_type": "code",
   "execution_count": null,
   "metadata": {},
   "outputs": [],
   "source": []
  }
 ],
 "metadata": {
  "kernelspec": {
   "display_name": "Python 3",
   "language": "python",
   "name": "python3"
  },
  "language_info": {
   "codemirror_mode": {
    "name": "ipython",
    "version": 3
   },
   "file_extension": ".py",
   "mimetype": "text/x-python",
   "name": "python",
   "nbconvert_exporter": "python",
   "pygments_lexer": "ipython3",
   "version": "3.7.1"
  }
 },
 "nbformat": 4,
 "nbformat_minor": 2
}
