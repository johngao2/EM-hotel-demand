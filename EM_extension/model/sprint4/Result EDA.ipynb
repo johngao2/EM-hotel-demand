{
 "cells": [
  {
   "cell_type": "code",
   "execution_count": null,
   "metadata": {},
   "outputs": [],
   "source": [
    "import pandas as pd\n",
    "import numpy as np\n",
    "import os\n",
    "from datetime import timedelta, date\n",
    "from ast import literal_eval\n",
    "from matplotlib import pyplot as plt\n",
    "\n",
    "# load transaction data\n",
    "trans_df = pd.read_csv('../../../data/cabot_data/sprint_3/trans_s3_raw.csv',\n",
    "                       parse_dates=['LOOK_DATE'])\n",
    "\n",
    "# load predicted lambdas\n",
    "lamb_df = pd.read_csv('/Users/johngao/work/thesis/em-hotel-demand-estimation/EM_extension/model/sprint4/sprint4_results.csv')"
   ]
  },
  {
   "cell_type": "code",
   "execution_count": null,
   "metadata": {
    "scrolled": true
   },
   "outputs": [],
   "source": [
    "# get binary value from purchases\n",
    "trans_df['PURCHASE_COUNT'] = trans_df['PRODUCT'].astype(str) != 'nan'\n",
    "trans_df['PURCHASE_COUNT'] = trans_df.apply(lambda row: 1 if row['PURCHASE_COUNT'] == True else 0, axis=1)\n",
    "\n",
    "# get look weeks and look_dow\n",
    "trans_df['LOOK_WEEK'] = trans_df.apply(lambda row: row['LOOK_DATE'].week, axis=1)\n",
    "trans_df['LOOK_DOW'] = trans_df.apply(lambda row: row['LOOK_DATE'].dayofweek, axis=1)\n",
    "\n",
    "# transform look day into numbers\n",
    "trans_df['LOOK_DOY'] = trans_df.apply(lambda row: row['LOOK_DATE'].dayofyear - 1, axis=1)\n",
    "\n",
    "# process predicted lambdas\n",
    "num_days = 299\n",
    "lamb_df = lamb_df.iloc[lamb_df.index > len(lamb_df) - (num_days + 1),:]\n",
    "lamb_df = lamb_df.reset_index().drop(['index','var'], axis=1)\n",
    "lamb_df['LOOK_DOY'] = lamb_df.index + 1\n",
    "lamb_df = lamb_df.rename(index=str, columns={\" value\": \"pred_lambda\"})\n",
    "\n",
    "# merge predicted lambdas into main df\n",
    "trans_df = trans_df.merge(lamb_df, on='LOOK_DOY')\n",
    "\n",
    "# get daily counts and diff\n",
    "daily_count = trans_df.drop(['INTRADAY', 'LOOK_WEEK', 'LOOK_DATE'],axis=1).groupby('LOOK_DOY').sum()\n",
    "daily_count['diff'] = daily_count['PURCHASE_COUNT'] - daily_count['pred_lambda']\n",
    "daily_count = daily_count.drop(['PURCHASE_COUNT', 'pred_lambda'], axis = 1)\n",
    "\n",
    "# get weekly counts and diff\n",
    "weekly_count = trans_df.drop(['INTRADAY', 'LOOK_DATE', 'LOOK_DOY', 'LOOK_DATE'],axis=1).groupby('LOOK_WEEK').sum()\n",
    "weekly_count['diff'] = weekly_count['PURCHASE_COUNT'] - weekly_count['pred_lambda']\n",
    "weekly_count = weekly_count.drop(['PURCHASE_COUNT', 'pred_lambda'], axis = 1)\n",
    "\n",
    "# get dow counts and diff\n",
    "dow_count = trans_df.drop(['INTRADAY', 'LOOK_WEEK', 'LOOK_DATE', 'LOOK_DOY'],axis=1).groupby('LOOK_DOW').sum()\n",
    "dow_count['diff'] = dow_count['PURCHASE_COUNT'] - dow_count['pred_lambda']\n",
    "dow_count = dow_count.drop(['PURCHASE_COUNT', 'pred_lambda'], axis = 1)"
   ]
  },
  {
   "cell_type": "code",
   "execution_count": null,
   "metadata": {},
   "outputs": [],
   "source": [
    "# save figure for daily differences\n",
    "plt.figure(figsize=(20,60))\n",
    "plt.barh(daily_count.index, daily_count['diff'], align='center', alpha=0.5)\n",
    "plt.yticks(daily_count.index)\n",
    "plt.ylabel('Look_Day')\n",
    "plt.xlabel('Count vs Predicted count difference')\n",
    "plt.title('Look_day vs predicted count difference')\n",
    "plt.savefig('daily_count_diff.png', format='png')\n",
    "plt.show()"
   ]
  },
  {
   "cell_type": "code",
   "execution_count": null,
   "metadata": {},
   "outputs": [],
   "source": [
    "# save figure for weekly differences\n",
    "plt.figure(figsize=(20,20))\n",
    "plt.barh(weekly_count.index, weekly_count['diff'], align='center', alpha=0.5, color='g')\n",
    "plt.yticks(weekly_count.index)\n",
    "plt.ylabel('Look_week')\n",
    "plt.xlabel('Count vs Predicted count difference')\n",
    "plt.title('Look_week vs predicted count difference')\n",
    "plt.savefig('weekly_count_diff.png', format='png')\n",
    "plt.show()"
   ]
  },
  {
   "cell_type": "code",
   "execution_count": null,
   "metadata": {},
   "outputs": [],
   "source": [
    "# save figure for weekly differences\n",
    "plt.figure(figsize=(20,10))\n",
    "plt.barh(dow_count.index, dow_count['diff'], align='center', alpha=0.5, color='r')\n",
    "plt.yticks(dow_count.index)\n",
    "plt.ylabel('Look_dow')\n",
    "plt.xlabel('Count vs Predicted count difference')\n",
    "plt.title('Look_dow vs predicted count difference')\n",
    "plt.savefig('dow_count_diff.png', format='png')\n",
    "plt.show()"
   ]
  },
  {
   "cell_type": "code",
   "execution_count": null,
   "metadata": {},
   "outputs": [],
   "source": [
    "counts_df_daily = trans_df[['LOOK_DATE', 'PURCHASE_TF', 'LOOK_WEEK']]"
   ]
  },
  {
   "cell_type": "code",
   "execution_count": null,
   "metadata": {},
   "outputs": [],
   "source": [
    "counts_df_daily = counts_df_daily.groupby('LOOK_DATE').sum()"
   ]
  },
  {
   "cell_type": "code",
   "execution_count": null,
   "metadata": {},
   "outputs": [],
   "source": []
  }
 ],
 "metadata": {
  "kernelspec": {
   "display_name": "Python 3",
   "language": "python",
   "name": "python3"
  },
  "language_info": {
   "codemirror_mode": {
    "name": "ipython",
    "version": 3
   },
   "file_extension": ".py",
   "mimetype": "text/x-python",
   "name": "python",
   "nbconvert_exporter": "python",
   "pygments_lexer": "ipython3",
   "version": "3.7.1"
  }
 },
 "nbformat": 4,
 "nbformat_minor": 2
}
